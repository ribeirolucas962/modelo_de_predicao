{
  "nbformat": 4,
  "nbformat_minor": 0,
  "metadata": {
    "colab": {
      "provenance": [],
      "authorship_tag": "ABX9TyMMQbfV9lYR3shhExCGtbd8",
      "include_colab_link": true
    },
    "kernelspec": {
      "name": "python3",
      "display_name": "Python 3"
    },
    "language_info": {
      "name": "python"
    }
  },
  "cells": [
    {
      "cell_type": "markdown",
      "metadata": {
        "id": "view-in-github",
        "colab_type": "text"
      },
      "source": [
        "<a href=\"https://colab.research.google.com/github/ribeirolucas962/modelo_de_predicao/blob/main/modelo_previs_o_venda.ipynb\" target=\"_parent\"><img src=\"https://colab.research.google.com/assets/colab-badge.svg\" alt=\"Open In Colab\"/></a>"
      ]
    },
    {
      "cell_type": "markdown",
      "source": [
        "#Relatório de Modelagem de Predição de Preços"
      ],
      "metadata": {
        "id": "XXHYLkt9_hrU"
      }
    },
    {
      "cell_type": "markdown",
      "source": [
        "#Índice\n",
        "1.Introdução ao Modelo de Predição de Preços\n",
        "\n",
        "2.Verificação de Dados Nulos e Descrição das Variáveis\n",
        "\n",
        "3.Análise Exploratória de Dados\n",
        "\n",
        "4.Preparação de Dados para Modelagem\n",
        "\n",
        "5.Construção e Avaliação do Modelo\n",
        "\n",
        "6.Visualizações do resultado e Conclusões do modelo."
      ],
      "metadata": {
        "id": "-TgIYi4fAsS3"
      }
    },
    {
      "cell_type": "markdown",
      "source": [
        "# 1.Introdução ao Modelo de Predição de Preços\n",
        "\n",
        "Este relatório detalha o processo de desenvolvimento de um modelo de machine learning para prever os preços com base em um conjunto de dados de vendas. O objetivo é utilizar técnicas de regressão para estimar os preços de forma a auxiliar decisões estratégicas de vendas e marketing.\n"
      ],
      "metadata": {
        "id": "YAgcz0qpDeHi"
      }
    },
    {
      "cell_type": "markdown",
      "source": [
        "#2. Importação das bibliotecas, Verificação e leitura de Dados, Nulos, Descrição das Variáveis e limpeza de dados."
      ],
      "metadata": {
        "id": "HgGdD9GyJ4W7"
      }
    },
    {
      "cell_type": "markdown",
      "source": [
        "##Importando as bibliotecas"
      ],
      "metadata": {
        "id": "qC32PIyCEXmg"
      }
    },
    {
      "cell_type": "code",
      "execution_count": null,
      "metadata": {
        "id": "SCFDhA5dNPoS"
      },
      "outputs": [],
      "source": [
        "import pandas as pd\n",
        "import matplotlib.pyplot as plt\n",
        "import seaborn as sns\n",
        "from sklearn.model_selection import train_test_split\n",
        "from sklearn.linear_model import LinearRegression\n",
        "from sklearn.metrics import  mean_squared_log_error, r2_score\n",
        "from sklearn.metrics import mean_squared_error, r2_score\n",
        "import plotly.graph_objects as go\n",
        "import numbergen as np\n",
        "import plotly.graph_objects as go\n"
      ]
    },
    {
      "cell_type": "markdown",
      "source": [
        "### Primeiramente, vamos carregar os dados do arquivo Excel para ver como eles estão organizados."
      ],
      "metadata": {
        "id": "eF3ClLCBcDd6"
      }
    },
    {
      "cell_type": "code",
      "source": [
        "# Carregar os dados do arquivo Excel\n",
        "file_path ='/content/base de dados de vendas.xlsx'\n",
        "df=pd.read_excel(file_path)"
      ],
      "metadata": {
        "id": "Cbsx5kPpTHjl"
      },
      "execution_count": null,
      "outputs": []
    },
    {
      "cell_type": "code",
      "source": [
        "#Lendo as variaveis\n",
        "df.head()"
      ],
      "metadata": {
        "colab": {
          "base_uri": "https://localhost:8080/",
          "height": 295
        },
        "id": "FSFPq1eLTy69",
        "outputId": "bfc876ec-d32b-41bc-a080-7db766c82d28"
      },
      "execution_count": null,
      "outputs": [
        {
          "output_type": "execute_result",
          "data": {
            "text/plain": [
              "   id_cliente     nome_cliente  id_produto           nome_produto  \\\n",
              "0           1    João da Silva         101  Cadeira de Escritório   \n",
              "1           2   Maria Oliveira         102         Mesa de Jantar   \n",
              "2           3  Carlos Ferreira         103          Sofá de Couro   \n",
              "3           4        Ana Souza         104           Guarda-Roupa   \n",
              "4           5      Luiz Santos         105               Cama Box   \n",
              "\n",
              "   valor_produto  quantidade_venda  quantidade_entrega  custo_entrega  \\\n",
              "0            150                 2                   2             10   \n",
              "1            300                 1                   1             20   \n",
              "2            500                 1                   1             30   \n",
              "3            400                 2                   1             25   \n",
              "4            600                 1                   1             15   \n",
              "\n",
              "   valor_total_compra  \n",
              "0                 320  \n",
              "1                 320  \n",
              "2                 530  \n",
              "3                 850  \n",
              "4                 615  "
            ],
            "text/html": [
              "\n",
              "  <div id=\"df-52ed3df4-c762-406b-bf74-5d4d7b997a47\" class=\"colab-df-container\">\n",
              "    <div>\n",
              "<style scoped>\n",
              "    .dataframe tbody tr th:only-of-type {\n",
              "        vertical-align: middle;\n",
              "    }\n",
              "\n",
              "    .dataframe tbody tr th {\n",
              "        vertical-align: top;\n",
              "    }\n",
              "\n",
              "    .dataframe thead th {\n",
              "        text-align: right;\n",
              "    }\n",
              "</style>\n",
              "<table border=\"1\" class=\"dataframe\">\n",
              "  <thead>\n",
              "    <tr style=\"text-align: right;\">\n",
              "      <th></th>\n",
              "      <th>id_cliente</th>\n",
              "      <th>nome_cliente</th>\n",
              "      <th>id_produto</th>\n",
              "      <th>nome_produto</th>\n",
              "      <th>valor_produto</th>\n",
              "      <th>quantidade_venda</th>\n",
              "      <th>quantidade_entrega</th>\n",
              "      <th>custo_entrega</th>\n",
              "      <th>valor_total_compra</th>\n",
              "    </tr>\n",
              "  </thead>\n",
              "  <tbody>\n",
              "    <tr>\n",
              "      <th>0</th>\n",
              "      <td>1</td>\n",
              "      <td>João da Silva</td>\n",
              "      <td>101</td>\n",
              "      <td>Cadeira de Escritório</td>\n",
              "      <td>150</td>\n",
              "      <td>2</td>\n",
              "      <td>2</td>\n",
              "      <td>10</td>\n",
              "      <td>320</td>\n",
              "    </tr>\n",
              "    <tr>\n",
              "      <th>1</th>\n",
              "      <td>2</td>\n",
              "      <td>Maria Oliveira</td>\n",
              "      <td>102</td>\n",
              "      <td>Mesa de Jantar</td>\n",
              "      <td>300</td>\n",
              "      <td>1</td>\n",
              "      <td>1</td>\n",
              "      <td>20</td>\n",
              "      <td>320</td>\n",
              "    </tr>\n",
              "    <tr>\n",
              "      <th>2</th>\n",
              "      <td>3</td>\n",
              "      <td>Carlos Ferreira</td>\n",
              "      <td>103</td>\n",
              "      <td>Sofá de Couro</td>\n",
              "      <td>500</td>\n",
              "      <td>1</td>\n",
              "      <td>1</td>\n",
              "      <td>30</td>\n",
              "      <td>530</td>\n",
              "    </tr>\n",
              "    <tr>\n",
              "      <th>3</th>\n",
              "      <td>4</td>\n",
              "      <td>Ana Souza</td>\n",
              "      <td>104</td>\n",
              "      <td>Guarda-Roupa</td>\n",
              "      <td>400</td>\n",
              "      <td>2</td>\n",
              "      <td>1</td>\n",
              "      <td>25</td>\n",
              "      <td>850</td>\n",
              "    </tr>\n",
              "    <tr>\n",
              "      <th>4</th>\n",
              "      <td>5</td>\n",
              "      <td>Luiz Santos</td>\n",
              "      <td>105</td>\n",
              "      <td>Cama Box</td>\n",
              "      <td>600</td>\n",
              "      <td>1</td>\n",
              "      <td>1</td>\n",
              "      <td>15</td>\n",
              "      <td>615</td>\n",
              "    </tr>\n",
              "  </tbody>\n",
              "</table>\n",
              "</div>\n",
              "    <div class=\"colab-df-buttons\">\n",
              "\n",
              "  <div class=\"colab-df-container\">\n",
              "    <button class=\"colab-df-convert\" onclick=\"convertToInteractive('df-52ed3df4-c762-406b-bf74-5d4d7b997a47')\"\n",
              "            title=\"Convert this dataframe to an interactive table.\"\n",
              "            style=\"display:none;\">\n",
              "\n",
              "  <svg xmlns=\"http://www.w3.org/2000/svg\" height=\"24px\" viewBox=\"0 -960 960 960\">\n",
              "    <path d=\"M120-120v-720h720v720H120Zm60-500h600v-160H180v160Zm220 220h160v-160H400v160Zm0 220h160v-160H400v160ZM180-400h160v-160H180v160Zm440 0h160v-160H620v160ZM180-180h160v-160H180v160Zm440 0h160v-160H620v160Z\"/>\n",
              "  </svg>\n",
              "    </button>\n",
              "\n",
              "  <style>\n",
              "    .colab-df-container {\n",
              "      display:flex;\n",
              "      gap: 12px;\n",
              "    }\n",
              "\n",
              "    .colab-df-convert {\n",
              "      background-color: #E8F0FE;\n",
              "      border: none;\n",
              "      border-radius: 50%;\n",
              "      cursor: pointer;\n",
              "      display: none;\n",
              "      fill: #1967D2;\n",
              "      height: 32px;\n",
              "      padding: 0 0 0 0;\n",
              "      width: 32px;\n",
              "    }\n",
              "\n",
              "    .colab-df-convert:hover {\n",
              "      background-color: #E2EBFA;\n",
              "      box-shadow: 0px 1px 2px rgba(60, 64, 67, 0.3), 0px 1px 3px 1px rgba(60, 64, 67, 0.15);\n",
              "      fill: #174EA6;\n",
              "    }\n",
              "\n",
              "    .colab-df-buttons div {\n",
              "      margin-bottom: 4px;\n",
              "    }\n",
              "\n",
              "    [theme=dark] .colab-df-convert {\n",
              "      background-color: #3B4455;\n",
              "      fill: #D2E3FC;\n",
              "    }\n",
              "\n",
              "    [theme=dark] .colab-df-convert:hover {\n",
              "      background-color: #434B5C;\n",
              "      box-shadow: 0px 1px 3px 1px rgba(0, 0, 0, 0.15);\n",
              "      filter: drop-shadow(0px 1px 2px rgba(0, 0, 0, 0.3));\n",
              "      fill: #FFFFFF;\n",
              "    }\n",
              "  </style>\n",
              "\n",
              "    <script>\n",
              "      const buttonEl =\n",
              "        document.querySelector('#df-52ed3df4-c762-406b-bf74-5d4d7b997a47 button.colab-df-convert');\n",
              "      buttonEl.style.display =\n",
              "        google.colab.kernel.accessAllowed ? 'block' : 'none';\n",
              "\n",
              "      async function convertToInteractive(key) {\n",
              "        const element = document.querySelector('#df-52ed3df4-c762-406b-bf74-5d4d7b997a47');\n",
              "        const dataTable =\n",
              "          await google.colab.kernel.invokeFunction('convertToInteractive',\n",
              "                                                    [key], {});\n",
              "        if (!dataTable) return;\n",
              "\n",
              "        const docLinkHtml = 'Like what you see? Visit the ' +\n",
              "          '<a target=\"_blank\" href=https://colab.research.google.com/notebooks/data_table.ipynb>data table notebook</a>'\n",
              "          + ' to learn more about interactive tables.';\n",
              "        element.innerHTML = '';\n",
              "        dataTable['output_type'] = 'display_data';\n",
              "        await google.colab.output.renderOutput(dataTable, element);\n",
              "        const docLink = document.createElement('div');\n",
              "        docLink.innerHTML = docLinkHtml;\n",
              "        element.appendChild(docLink);\n",
              "      }\n",
              "    </script>\n",
              "  </div>\n",
              "\n",
              "\n",
              "<div id=\"df-89ab0492-9265-4d00-a374-e986d4c8f976\">\n",
              "  <button class=\"colab-df-quickchart\" onclick=\"quickchart('df-89ab0492-9265-4d00-a374-e986d4c8f976')\"\n",
              "            title=\"Suggest charts\"\n",
              "            style=\"display:none;\">\n",
              "\n",
              "<svg xmlns=\"http://www.w3.org/2000/svg\" height=\"24px\"viewBox=\"0 0 24 24\"\n",
              "     width=\"24px\">\n",
              "    <g>\n",
              "        <path d=\"M19 3H5c-1.1 0-2 .9-2 2v14c0 1.1.9 2 2 2h14c1.1 0 2-.9 2-2V5c0-1.1-.9-2-2-2zM9 17H7v-7h2v7zm4 0h-2V7h2v10zm4 0h-2v-4h2v4z\"/>\n",
              "    </g>\n",
              "</svg>\n",
              "  </button>\n",
              "\n",
              "<style>\n",
              "  .colab-df-quickchart {\n",
              "      --bg-color: #E8F0FE;\n",
              "      --fill-color: #1967D2;\n",
              "      --hover-bg-color: #E2EBFA;\n",
              "      --hover-fill-color: #174EA6;\n",
              "      --disabled-fill-color: #AAA;\n",
              "      --disabled-bg-color: #DDD;\n",
              "  }\n",
              "\n",
              "  [theme=dark] .colab-df-quickchart {\n",
              "      --bg-color: #3B4455;\n",
              "      --fill-color: #D2E3FC;\n",
              "      --hover-bg-color: #434B5C;\n",
              "      --hover-fill-color: #FFFFFF;\n",
              "      --disabled-bg-color: #3B4455;\n",
              "      --disabled-fill-color: #666;\n",
              "  }\n",
              "\n",
              "  .colab-df-quickchart {\n",
              "    background-color: var(--bg-color);\n",
              "    border: none;\n",
              "    border-radius: 50%;\n",
              "    cursor: pointer;\n",
              "    display: none;\n",
              "    fill: var(--fill-color);\n",
              "    height: 32px;\n",
              "    padding: 0;\n",
              "    width: 32px;\n",
              "  }\n",
              "\n",
              "  .colab-df-quickchart:hover {\n",
              "    background-color: var(--hover-bg-color);\n",
              "    box-shadow: 0 1px 2px rgba(60, 64, 67, 0.3), 0 1px 3px 1px rgba(60, 64, 67, 0.15);\n",
              "    fill: var(--button-hover-fill-color);\n",
              "  }\n",
              "\n",
              "  .colab-df-quickchart-complete:disabled,\n",
              "  .colab-df-quickchart-complete:disabled:hover {\n",
              "    background-color: var(--disabled-bg-color);\n",
              "    fill: var(--disabled-fill-color);\n",
              "    box-shadow: none;\n",
              "  }\n",
              "\n",
              "  .colab-df-spinner {\n",
              "    border: 2px solid var(--fill-color);\n",
              "    border-color: transparent;\n",
              "    border-bottom-color: var(--fill-color);\n",
              "    animation:\n",
              "      spin 1s steps(1) infinite;\n",
              "  }\n",
              "\n",
              "  @keyframes spin {\n",
              "    0% {\n",
              "      border-color: transparent;\n",
              "      border-bottom-color: var(--fill-color);\n",
              "      border-left-color: var(--fill-color);\n",
              "    }\n",
              "    20% {\n",
              "      border-color: transparent;\n",
              "      border-left-color: var(--fill-color);\n",
              "      border-top-color: var(--fill-color);\n",
              "    }\n",
              "    30% {\n",
              "      border-color: transparent;\n",
              "      border-left-color: var(--fill-color);\n",
              "      border-top-color: var(--fill-color);\n",
              "      border-right-color: var(--fill-color);\n",
              "    }\n",
              "    40% {\n",
              "      border-color: transparent;\n",
              "      border-right-color: var(--fill-color);\n",
              "      border-top-color: var(--fill-color);\n",
              "    }\n",
              "    60% {\n",
              "      border-color: transparent;\n",
              "      border-right-color: var(--fill-color);\n",
              "    }\n",
              "    80% {\n",
              "      border-color: transparent;\n",
              "      border-right-color: var(--fill-color);\n",
              "      border-bottom-color: var(--fill-color);\n",
              "    }\n",
              "    90% {\n",
              "      border-color: transparent;\n",
              "      border-bottom-color: var(--fill-color);\n",
              "    }\n",
              "  }\n",
              "</style>\n",
              "\n",
              "  <script>\n",
              "    async function quickchart(key) {\n",
              "      const quickchartButtonEl =\n",
              "        document.querySelector('#' + key + ' button');\n",
              "      quickchartButtonEl.disabled = true;  // To prevent multiple clicks.\n",
              "      quickchartButtonEl.classList.add('colab-df-spinner');\n",
              "      try {\n",
              "        const charts = await google.colab.kernel.invokeFunction(\n",
              "            'suggestCharts', [key], {});\n",
              "      } catch (error) {\n",
              "        console.error('Error during call to suggestCharts:', error);\n",
              "      }\n",
              "      quickchartButtonEl.classList.remove('colab-df-spinner');\n",
              "      quickchartButtonEl.classList.add('colab-df-quickchart-complete');\n",
              "    }\n",
              "    (() => {\n",
              "      let quickchartButtonEl =\n",
              "        document.querySelector('#df-89ab0492-9265-4d00-a374-e986d4c8f976 button');\n",
              "      quickchartButtonEl.style.display =\n",
              "        google.colab.kernel.accessAllowed ? 'block' : 'none';\n",
              "    })();\n",
              "  </script>\n",
              "</div>\n",
              "\n",
              "    </div>\n",
              "  </div>\n"
            ],
            "application/vnd.google.colaboratory.intrinsic+json": {
              "type": "dataframe",
              "variable_name": "df",
              "summary": "{\n  \"name\": \"df\",\n  \"rows\": 100,\n  \"fields\": [\n    {\n      \"column\": \"id_cliente\",\n      \"properties\": {\n        \"dtype\": \"number\",\n        \"std\": 29,\n        \"min\": 1,\n        \"max\": 100,\n        \"num_unique_values\": 100,\n        \"samples\": [\n          84,\n          54,\n          71\n        ],\n        \"semantic_type\": \"\",\n        \"description\": \"\"\n      }\n    },\n    {\n      \"column\": \"nome_cliente\",\n      \"properties\": {\n        \"dtype\": \"string\",\n        \"num_unique_values\": 94,\n        \"samples\": [\n          \"Daniela Silva\",\n          \"Rodrigo Vieira\",\n          \"Helena Costa\"\n        ],\n        \"semantic_type\": \"\",\n        \"description\": \"\"\n      }\n    },\n    {\n      \"column\": \"id_produto\",\n      \"properties\": {\n        \"dtype\": \"number\",\n        \"std\": 29,\n        \"min\": 101,\n        \"max\": 200,\n        \"num_unique_values\": 100,\n        \"samples\": [\n          184,\n          154,\n          171\n        ],\n        \"semantic_type\": \"\",\n        \"description\": \"\"\n      }\n    },\n    {\n      \"column\": \"nome_produto\",\n      \"properties\": {\n        \"dtype\": \"string\",\n        \"num_unique_values\": 100,\n        \"samples\": [\n          \"Pluvi\\u00f4metro Digital\",\n          \"Porta-Velas\",\n          \"Esta\\u00e7\\u00e3o Meteorol\\u00f3gica\"\n        ],\n        \"semantic_type\": \"\",\n        \"description\": \"\"\n      }\n    },\n    {\n      \"column\": \"valor_produto\",\n      \"properties\": {\n        \"dtype\": \"number\",\n        \"std\": 309,\n        \"min\": 10,\n        \"max\": 2000,\n        \"num_unique_values\": 23,\n        \"samples\": [\n          70,\n          2000,\n          150\n        ],\n        \"semantic_type\": \"\",\n        \"description\": \"\"\n      }\n    },\n    {\n      \"column\": \"quantidade_venda\",\n      \"properties\": {\n        \"dtype\": \"number\",\n        \"std\": 0,\n        \"min\": 1,\n        \"max\": 2,\n        \"num_unique_values\": 2,\n        \"samples\": [\n          1,\n          2\n        ],\n        \"semantic_type\": \"\",\n        \"description\": \"\"\n      }\n    },\n    {\n      \"column\": \"quantidade_entrega\",\n      \"properties\": {\n        \"dtype\": \"number\",\n        \"std\": 0,\n        \"min\": 1,\n        \"max\": 2,\n        \"num_unique_values\": 2,\n        \"samples\": [\n          1,\n          2\n        ],\n        \"semantic_type\": \"\",\n        \"description\": \"\"\n      }\n    },\n    {\n      \"column\": \"custo_entrega\",\n      \"properties\": {\n        \"dtype\": \"number\",\n        \"std\": 9,\n        \"min\": 2,\n        \"max\": 60,\n        \"num_unique_values\": 12,\n        \"samples\": [\n          8,\n          3\n        ],\n        \"semantic_type\": \"\",\n        \"description\": \"\"\n      }\n    },\n    {\n      \"column\": \"valor_total_compra\",\n      \"properties\": {\n        \"dtype\": \"number\",\n        \"std\": 361,\n        \"min\": 12,\n        \"max\": 2060,\n        \"num_unique_values\": 34,\n        \"samples\": [\n          75,\n          25\n        ],\n        \"semantic_type\": \"\",\n        \"description\": \"\"\n      }\n    }\n  ]\n}"
            }
          },
          "metadata": {},
          "execution_count": 20
        }
      ]
    },
    {
      "cell_type": "markdown",
      "source": [
        "###Lendo as quantidade de linhas e colunas."
      ],
      "metadata": {
        "id": "yKj2uky4dIGV"
      }
    },
    {
      "cell_type": "code",
      "source": [
        "df.shape"
      ],
      "metadata": {
        "colab": {
          "base_uri": "https://localhost:8080/"
        },
        "id": "be1sbXL7UVPb",
        "outputId": "93201e15-f77a-4100-c263-24ef023b1e82"
      },
      "execution_count": null,
      "outputs": [
        {
          "output_type": "execute_result",
          "data": {
            "text/plain": [
              "(100, 9)"
            ]
          },
          "metadata": {},
          "execution_count": 21
        }
      ]
    },
    {
      "cell_type": "markdown",
      "source": [
        "###Verificando números de nulos e descrição das variáveis"
      ],
      "metadata": {
        "id": "S-VTIb4dfFMW"
      }
    },
    {
      "cell_type": "code",
      "source": [
        "df.info()"
      ],
      "metadata": {
        "colab": {
          "base_uri": "https://localhost:8080/"
        },
        "id": "HVy6xcqnUZIV",
        "outputId": "e9f776e0-c8f7-4e7d-e2e0-7227f931c765"
      },
      "execution_count": null,
      "outputs": [
        {
          "output_type": "stream",
          "name": "stdout",
          "text": [
            "<class 'pandas.core.frame.DataFrame'>\n",
            "RangeIndex: 100 entries, 0 to 99\n",
            "Data columns (total 9 columns):\n",
            " #   Column              Non-Null Count  Dtype \n",
            "---  ------              --------------  ----- \n",
            " 0   id_cliente          100 non-null    int64 \n",
            " 1   nome_cliente        100 non-null    object\n",
            " 2   id_produto          100 non-null    int64 \n",
            " 3   nome_produto        100 non-null    object\n",
            " 4   valor_produto       100 non-null    int64 \n",
            " 5   quantidade_venda    100 non-null    int64 \n",
            " 6   quantidade_entrega  100 non-null    int64 \n",
            " 7   custo_entrega       100 non-null    int64 \n",
            " 8   valor_total_compra  100 non-null    int64 \n",
            "dtypes: int64(7), object(2)\n",
            "memory usage: 7.2+ KB\n"
          ]
        }
      ]
    },
    {
      "cell_type": "markdown",
      "source": [
        "###Estatísticas Descritivas\n",
        "De forma resumida, os valores parecem razoáveis, mas há grande variação em algumas colunas como valor_produto e valor_total_compra, indicando uma possível necessidade de normalização para a modelagem."
      ],
      "metadata": {
        "id": "REE2-mpQfJqr"
      }
    },
    {
      "cell_type": "code",
      "source": [
        "df.describe()"
      ],
      "metadata": {
        "colab": {
          "base_uri": "https://localhost:8080/",
          "height": 320
        },
        "id": "RdxyswbtUpiH",
        "outputId": "d498cbeb-5b02-48a9-9b1e-fe9202351a87"
      },
      "execution_count": null,
      "outputs": [
        {
          "output_type": "execute_result",
          "data": {
            "text/plain": [
              "       id_cliente  id_produto  valor_produto  quantidade_venda  \\\n",
              "count  100.000000  100.000000     100.000000        100.000000   \n",
              "mean    50.500000  150.500000     140.300000          1.130000   \n",
              "std     29.011492   29.011492     309.396464          0.337998   \n",
              "min      1.000000  101.000000      10.000000          1.000000   \n",
              "25%     25.750000  125.750000      30.000000          1.000000   \n",
              "50%     50.500000  150.500000      50.000000          1.000000   \n",
              "75%     75.250000  175.250000      80.000000          1.000000   \n",
              "max    100.000000  200.000000    2000.000000          2.000000   \n",
              "\n",
              "       quantidade_entrega  custo_entrega  valor_total_compra  \n",
              "count          100.000000     100.000000          100.000000  \n",
              "mean             1.120000       8.360000          170.410000  \n",
              "std              0.326599       9.876531          361.107083  \n",
              "min              1.000000       2.000000           12.000000  \n",
              "25%              1.000000       5.000000           35.000000  \n",
              "50%              1.000000       5.000000           55.000000  \n",
              "75%              1.000000       5.000000           90.000000  \n",
              "max              2.000000      60.000000         2060.000000  "
            ],
            "text/html": [
              "\n",
              "  <div id=\"df-13dbca5c-45e3-4d59-b60c-0eca32aea6bf\" class=\"colab-df-container\">\n",
              "    <div>\n",
              "<style scoped>\n",
              "    .dataframe tbody tr th:only-of-type {\n",
              "        vertical-align: middle;\n",
              "    }\n",
              "\n",
              "    .dataframe tbody tr th {\n",
              "        vertical-align: top;\n",
              "    }\n",
              "\n",
              "    .dataframe thead th {\n",
              "        text-align: right;\n",
              "    }\n",
              "</style>\n",
              "<table border=\"1\" class=\"dataframe\">\n",
              "  <thead>\n",
              "    <tr style=\"text-align: right;\">\n",
              "      <th></th>\n",
              "      <th>id_cliente</th>\n",
              "      <th>id_produto</th>\n",
              "      <th>valor_produto</th>\n",
              "      <th>quantidade_venda</th>\n",
              "      <th>quantidade_entrega</th>\n",
              "      <th>custo_entrega</th>\n",
              "      <th>valor_total_compra</th>\n",
              "    </tr>\n",
              "  </thead>\n",
              "  <tbody>\n",
              "    <tr>\n",
              "      <th>count</th>\n",
              "      <td>100.000000</td>\n",
              "      <td>100.000000</td>\n",
              "      <td>100.000000</td>\n",
              "      <td>100.000000</td>\n",
              "      <td>100.000000</td>\n",
              "      <td>100.000000</td>\n",
              "      <td>100.000000</td>\n",
              "    </tr>\n",
              "    <tr>\n",
              "      <th>mean</th>\n",
              "      <td>50.500000</td>\n",
              "      <td>150.500000</td>\n",
              "      <td>140.300000</td>\n",
              "      <td>1.130000</td>\n",
              "      <td>1.120000</td>\n",
              "      <td>8.360000</td>\n",
              "      <td>170.410000</td>\n",
              "    </tr>\n",
              "    <tr>\n",
              "      <th>std</th>\n",
              "      <td>29.011492</td>\n",
              "      <td>29.011492</td>\n",
              "      <td>309.396464</td>\n",
              "      <td>0.337998</td>\n",
              "      <td>0.326599</td>\n",
              "      <td>9.876531</td>\n",
              "      <td>361.107083</td>\n",
              "    </tr>\n",
              "    <tr>\n",
              "      <th>min</th>\n",
              "      <td>1.000000</td>\n",
              "      <td>101.000000</td>\n",
              "      <td>10.000000</td>\n",
              "      <td>1.000000</td>\n",
              "      <td>1.000000</td>\n",
              "      <td>2.000000</td>\n",
              "      <td>12.000000</td>\n",
              "    </tr>\n",
              "    <tr>\n",
              "      <th>25%</th>\n",
              "      <td>25.750000</td>\n",
              "      <td>125.750000</td>\n",
              "      <td>30.000000</td>\n",
              "      <td>1.000000</td>\n",
              "      <td>1.000000</td>\n",
              "      <td>5.000000</td>\n",
              "      <td>35.000000</td>\n",
              "    </tr>\n",
              "    <tr>\n",
              "      <th>50%</th>\n",
              "      <td>50.500000</td>\n",
              "      <td>150.500000</td>\n",
              "      <td>50.000000</td>\n",
              "      <td>1.000000</td>\n",
              "      <td>1.000000</td>\n",
              "      <td>5.000000</td>\n",
              "      <td>55.000000</td>\n",
              "    </tr>\n",
              "    <tr>\n",
              "      <th>75%</th>\n",
              "      <td>75.250000</td>\n",
              "      <td>175.250000</td>\n",
              "      <td>80.000000</td>\n",
              "      <td>1.000000</td>\n",
              "      <td>1.000000</td>\n",
              "      <td>5.000000</td>\n",
              "      <td>90.000000</td>\n",
              "    </tr>\n",
              "    <tr>\n",
              "      <th>max</th>\n",
              "      <td>100.000000</td>\n",
              "      <td>200.000000</td>\n",
              "      <td>2000.000000</td>\n",
              "      <td>2.000000</td>\n",
              "      <td>2.000000</td>\n",
              "      <td>60.000000</td>\n",
              "      <td>2060.000000</td>\n",
              "    </tr>\n",
              "  </tbody>\n",
              "</table>\n",
              "</div>\n",
              "    <div class=\"colab-df-buttons\">\n",
              "\n",
              "  <div class=\"colab-df-container\">\n",
              "    <button class=\"colab-df-convert\" onclick=\"convertToInteractive('df-13dbca5c-45e3-4d59-b60c-0eca32aea6bf')\"\n",
              "            title=\"Convert this dataframe to an interactive table.\"\n",
              "            style=\"display:none;\">\n",
              "\n",
              "  <svg xmlns=\"http://www.w3.org/2000/svg\" height=\"24px\" viewBox=\"0 -960 960 960\">\n",
              "    <path d=\"M120-120v-720h720v720H120Zm60-500h600v-160H180v160Zm220 220h160v-160H400v160Zm0 220h160v-160H400v160ZM180-400h160v-160H180v160Zm440 0h160v-160H620v160ZM180-180h160v-160H180v160Zm440 0h160v-160H620v160Z\"/>\n",
              "  </svg>\n",
              "    </button>\n",
              "\n",
              "  <style>\n",
              "    .colab-df-container {\n",
              "      display:flex;\n",
              "      gap: 12px;\n",
              "    }\n",
              "\n",
              "    .colab-df-convert {\n",
              "      background-color: #E8F0FE;\n",
              "      border: none;\n",
              "      border-radius: 50%;\n",
              "      cursor: pointer;\n",
              "      display: none;\n",
              "      fill: #1967D2;\n",
              "      height: 32px;\n",
              "      padding: 0 0 0 0;\n",
              "      width: 32px;\n",
              "    }\n",
              "\n",
              "    .colab-df-convert:hover {\n",
              "      background-color: #E2EBFA;\n",
              "      box-shadow: 0px 1px 2px rgba(60, 64, 67, 0.3), 0px 1px 3px 1px rgba(60, 64, 67, 0.15);\n",
              "      fill: #174EA6;\n",
              "    }\n",
              "\n",
              "    .colab-df-buttons div {\n",
              "      margin-bottom: 4px;\n",
              "    }\n",
              "\n",
              "    [theme=dark] .colab-df-convert {\n",
              "      background-color: #3B4455;\n",
              "      fill: #D2E3FC;\n",
              "    }\n",
              "\n",
              "    [theme=dark] .colab-df-convert:hover {\n",
              "      background-color: #434B5C;\n",
              "      box-shadow: 0px 1px 3px 1px rgba(0, 0, 0, 0.15);\n",
              "      filter: drop-shadow(0px 1px 2px rgba(0, 0, 0, 0.3));\n",
              "      fill: #FFFFFF;\n",
              "    }\n",
              "  </style>\n",
              "\n",
              "    <script>\n",
              "      const buttonEl =\n",
              "        document.querySelector('#df-13dbca5c-45e3-4d59-b60c-0eca32aea6bf button.colab-df-convert');\n",
              "      buttonEl.style.display =\n",
              "        google.colab.kernel.accessAllowed ? 'block' : 'none';\n",
              "\n",
              "      async function convertToInteractive(key) {\n",
              "        const element = document.querySelector('#df-13dbca5c-45e3-4d59-b60c-0eca32aea6bf');\n",
              "        const dataTable =\n",
              "          await google.colab.kernel.invokeFunction('convertToInteractive',\n",
              "                                                    [key], {});\n",
              "        if (!dataTable) return;\n",
              "\n",
              "        const docLinkHtml = 'Like what you see? Visit the ' +\n",
              "          '<a target=\"_blank\" href=https://colab.research.google.com/notebooks/data_table.ipynb>data table notebook</a>'\n",
              "          + ' to learn more about interactive tables.';\n",
              "        element.innerHTML = '';\n",
              "        dataTable['output_type'] = 'display_data';\n",
              "        await google.colab.output.renderOutput(dataTable, element);\n",
              "        const docLink = document.createElement('div');\n",
              "        docLink.innerHTML = docLinkHtml;\n",
              "        element.appendChild(docLink);\n",
              "      }\n",
              "    </script>\n",
              "  </div>\n",
              "\n",
              "\n",
              "<div id=\"df-0888094e-4b40-4ac7-8363-d9838887052d\">\n",
              "  <button class=\"colab-df-quickchart\" onclick=\"quickchart('df-0888094e-4b40-4ac7-8363-d9838887052d')\"\n",
              "            title=\"Suggest charts\"\n",
              "            style=\"display:none;\">\n",
              "\n",
              "<svg xmlns=\"http://www.w3.org/2000/svg\" height=\"24px\"viewBox=\"0 0 24 24\"\n",
              "     width=\"24px\">\n",
              "    <g>\n",
              "        <path d=\"M19 3H5c-1.1 0-2 .9-2 2v14c0 1.1.9 2 2 2h14c1.1 0 2-.9 2-2V5c0-1.1-.9-2-2-2zM9 17H7v-7h2v7zm4 0h-2V7h2v10zm4 0h-2v-4h2v4z\"/>\n",
              "    </g>\n",
              "</svg>\n",
              "  </button>\n",
              "\n",
              "<style>\n",
              "  .colab-df-quickchart {\n",
              "      --bg-color: #E8F0FE;\n",
              "      --fill-color: #1967D2;\n",
              "      --hover-bg-color: #E2EBFA;\n",
              "      --hover-fill-color: #174EA6;\n",
              "      --disabled-fill-color: #AAA;\n",
              "      --disabled-bg-color: #DDD;\n",
              "  }\n",
              "\n",
              "  [theme=dark] .colab-df-quickchart {\n",
              "      --bg-color: #3B4455;\n",
              "      --fill-color: #D2E3FC;\n",
              "      --hover-bg-color: #434B5C;\n",
              "      --hover-fill-color: #FFFFFF;\n",
              "      --disabled-bg-color: #3B4455;\n",
              "      --disabled-fill-color: #666;\n",
              "  }\n",
              "\n",
              "  .colab-df-quickchart {\n",
              "    background-color: var(--bg-color);\n",
              "    border: none;\n",
              "    border-radius: 50%;\n",
              "    cursor: pointer;\n",
              "    display: none;\n",
              "    fill: var(--fill-color);\n",
              "    height: 32px;\n",
              "    padding: 0;\n",
              "    width: 32px;\n",
              "  }\n",
              "\n",
              "  .colab-df-quickchart:hover {\n",
              "    background-color: var(--hover-bg-color);\n",
              "    box-shadow: 0 1px 2px rgba(60, 64, 67, 0.3), 0 1px 3px 1px rgba(60, 64, 67, 0.15);\n",
              "    fill: var(--button-hover-fill-color);\n",
              "  }\n",
              "\n",
              "  .colab-df-quickchart-complete:disabled,\n",
              "  .colab-df-quickchart-complete:disabled:hover {\n",
              "    background-color: var(--disabled-bg-color);\n",
              "    fill: var(--disabled-fill-color);\n",
              "    box-shadow: none;\n",
              "  }\n",
              "\n",
              "  .colab-df-spinner {\n",
              "    border: 2px solid var(--fill-color);\n",
              "    border-color: transparent;\n",
              "    border-bottom-color: var(--fill-color);\n",
              "    animation:\n",
              "      spin 1s steps(1) infinite;\n",
              "  }\n",
              "\n",
              "  @keyframes spin {\n",
              "    0% {\n",
              "      border-color: transparent;\n",
              "      border-bottom-color: var(--fill-color);\n",
              "      border-left-color: var(--fill-color);\n",
              "    }\n",
              "    20% {\n",
              "      border-color: transparent;\n",
              "      border-left-color: var(--fill-color);\n",
              "      border-top-color: var(--fill-color);\n",
              "    }\n",
              "    30% {\n",
              "      border-color: transparent;\n",
              "      border-left-color: var(--fill-color);\n",
              "      border-top-color: var(--fill-color);\n",
              "      border-right-color: var(--fill-color);\n",
              "    }\n",
              "    40% {\n",
              "      border-color: transparent;\n",
              "      border-right-color: var(--fill-color);\n",
              "      border-top-color: var(--fill-color);\n",
              "    }\n",
              "    60% {\n",
              "      border-color: transparent;\n",
              "      border-right-color: var(--fill-color);\n",
              "    }\n",
              "    80% {\n",
              "      border-color: transparent;\n",
              "      border-right-color: var(--fill-color);\n",
              "      border-bottom-color: var(--fill-color);\n",
              "    }\n",
              "    90% {\n",
              "      border-color: transparent;\n",
              "      border-bottom-color: var(--fill-color);\n",
              "    }\n",
              "  }\n",
              "</style>\n",
              "\n",
              "  <script>\n",
              "    async function quickchart(key) {\n",
              "      const quickchartButtonEl =\n",
              "        document.querySelector('#' + key + ' button');\n",
              "      quickchartButtonEl.disabled = true;  // To prevent multiple clicks.\n",
              "      quickchartButtonEl.classList.add('colab-df-spinner');\n",
              "      try {\n",
              "        const charts = await google.colab.kernel.invokeFunction(\n",
              "            'suggestCharts', [key], {});\n",
              "      } catch (error) {\n",
              "        console.error('Error during call to suggestCharts:', error);\n",
              "      }\n",
              "      quickchartButtonEl.classList.remove('colab-df-spinner');\n",
              "      quickchartButtonEl.classList.add('colab-df-quickchart-complete');\n",
              "    }\n",
              "    (() => {\n",
              "      let quickchartButtonEl =\n",
              "        document.querySelector('#df-0888094e-4b40-4ac7-8363-d9838887052d button');\n",
              "      quickchartButtonEl.style.display =\n",
              "        google.colab.kernel.accessAllowed ? 'block' : 'none';\n",
              "    })();\n",
              "  </script>\n",
              "</div>\n",
              "\n",
              "    </div>\n",
              "  </div>\n"
            ],
            "application/vnd.google.colaboratory.intrinsic+json": {
              "type": "dataframe",
              "summary": "{\n  \"name\": \"df\",\n  \"rows\": 8,\n  \"fields\": [\n    {\n      \"column\": \"id_cliente\",\n      \"properties\": {\n        \"dtype\": \"number\",\n        \"std\": 35.736237144555226,\n        \"min\": 1.0,\n        \"max\": 100.0,\n        \"num_unique_values\": 6,\n        \"samples\": [\n          100.0,\n          50.5,\n          75.25\n        ],\n        \"semantic_type\": \"\",\n        \"description\": \"\"\n      }\n    },\n    {\n      \"column\": \"id_produto\",\n      \"properties\": {\n        \"dtype\": \"number\",\n        \"std\": 53.10074887873982,\n        \"min\": 29.011491975882016,\n        \"max\": 200.0,\n        \"num_unique_values\": 7,\n        \"samples\": [\n          100.0,\n          150.5,\n          175.25\n        ],\n        \"semantic_type\": \"\",\n        \"description\": \"\"\n      }\n    },\n    {\n      \"column\": \"valor_produto\",\n      \"properties\": {\n        \"dtype\": \"number\",\n        \"std\": 677.2546107969955,\n        \"min\": 10.0,\n        \"max\": 2000.0,\n        \"num_unique_values\": 8,\n        \"samples\": [\n          140.3,\n          50.0,\n          100.0\n        ],\n        \"semantic_type\": \"\",\n        \"description\": \"\"\n      }\n    },\n    {\n      \"column\": \"quantidade_venda\",\n      \"properties\": {\n        \"dtype\": \"number\",\n        \"std\": 34.98105574460778,\n        \"min\": 0.3379976689896311,\n        \"max\": 100.0,\n        \"num_unique_values\": 5,\n        \"samples\": [\n          1.13,\n          2.0,\n          0.3379976689896311\n        ],\n        \"semantic_type\": \"\",\n        \"description\": \"\"\n      }\n    },\n    {\n      \"column\": \"quantidade_entrega\",\n      \"properties\": {\n        \"dtype\": \"number\",\n        \"std\": 34.98216815537889,\n        \"min\": 0.32659863237109044,\n        \"max\": 100.0,\n        \"num_unique_values\": 5,\n        \"samples\": [\n          1.12,\n          2.0,\n          0.32659863237109044\n        ],\n        \"semantic_type\": \"\",\n        \"description\": \"\"\n      }\n    },\n    {\n      \"column\": \"custo_entrega\",\n      \"properties\": {\n        \"dtype\": \"number\",\n        \"std\": 36.01938484803788,\n        \"min\": 2.0,\n        \"max\": 100.0,\n        \"num_unique_values\": 6,\n        \"samples\": [\n          100.0,\n          8.36,\n          60.0\n        ],\n        \"semantic_type\": \"\",\n        \"description\": \"\"\n      }\n    },\n    {\n      \"column\": \"valor_total_compra\",\n      \"properties\": {\n        \"dtype\": \"number\",\n        \"std\": 695.5160517299593,\n        \"min\": 12.0,\n        \"max\": 2060.0,\n        \"num_unique_values\": 8,\n        \"samples\": [\n          170.41,\n          55.0,\n          100.0\n        ],\n        \"semantic_type\": \"\",\n        \"description\": \"\"\n      }\n    }\n  ]\n}"
            }
          },
          "metadata": {},
          "execution_count": 23
        }
      ]
    },
    {
      "cell_type": "markdown",
      "source": [
        "###Limpeza de Dados Tratamento duplicatas ou valores inconsistentes."
      ],
      "metadata": {
        "id": "6UhrpbhPeYOr"
      }
    },
    {
      "cell_type": "code",
      "source": [
        "#Checando duplicatas\n",
        "dados_duplicados = df.duplicated().sum()\n",
        "dados_duplicados"
      ],
      "metadata": {
        "colab": {
          "base_uri": "https://localhost:8080/"
        },
        "id": "K0DA5a8NU5M-",
        "outputId": "0eb1aaf0-5d64-4d67-a9bf-bb54485d39d5"
      },
      "execution_count": null,
      "outputs": [
        {
          "output_type": "execute_result",
          "data": {
            "text/plain": [
              "0"
            ]
          },
          "metadata": {},
          "execution_count": 24
        }
      ]
    },
    {
      "cell_type": "code",
      "source": [
        "#Checando valores nulos\n",
        "valores_nulos=df.isnull().sum()\n",
        "valores_nulos"
      ],
      "metadata": {
        "colab": {
          "base_uri": "https://localhost:8080/"
        },
        "id": "-cjKfaoUWAc1",
        "outputId": "560f8c35-8a82-4fbd-d4ad-f037513d5ae0"
      },
      "execution_count": null,
      "outputs": [
        {
          "output_type": "execute_result",
          "data": {
            "text/plain": [
              "id_cliente            0\n",
              "nome_cliente          0\n",
              "id_produto            0\n",
              "nome_produto          0\n",
              "valor_produto         0\n",
              "quantidade_venda      0\n",
              "quantidade_entrega    0\n",
              "custo_entrega         0\n",
              "valor_total_compra    0\n",
              "dtype: int64"
            ]
          },
          "metadata": {},
          "execution_count": 25
        }
      ]
    },
    {
      "cell_type": "markdown",
      "source": [
        "#3.Análise Exploratória de Dados"
      ],
      "metadata": {
        "id": "1T3zQYPEGS5T"
      }
    },
    {
      "cell_type": "markdown",
      "source": [
        "##Gerando um boxplot para visualizar a distribuição dos valores de algumas colunas-chave."
      ],
      "metadata": {
        "id": "YQJXQL6penXM"
      }
    },
    {
      "cell_type": "code",
      "source": [
        "#Configurando o estilo do gráfico\n",
        "sns.set(style=\"whitegrid\")\n",
        "#Criar o boxplot para coluna valor_produto\n",
        "plt.figure(figsize=(15,6))\n",
        "sns.boxenplot(x=df['valor_produto'])\n",
        "plt.title('Distribuição do valor do produto')\n",
        "plt.xlabel(\"Valor do Produto\")\n",
        "plt.show()"
      ],
      "metadata": {
        "colab": {
          "base_uri": "https://localhost:8080/",
          "height": 403
        },
        "id": "SXrxfWgFWRRG",
        "outputId": "22415f4b-9b33-49f8-bc34-1589f6811608"
      },
      "execution_count": null,
      "outputs": [
        {
          "output_type": "display_data",
          "data": {
            "text/plain": [
              "<Figure size 1500x600 with 1 Axes>"
            ],
            "image/png": "[encoded data removed]"
          },
          "metadata": {}
        }
      ]
    },
    {
      "cell_type": "markdown",
      "source": [
        "### Filtrando de dataset para verificar se os outliers onde valor_total_compra é superior a 600, e depois exibe esses registos filtrados se faz sentido mantelos."
      ],
      "metadata": {
        "id": "l8TznP_0fJwb"
      }
    },
    {
      "cell_type": "code",
      "source": [
        "outliers = df[df['valor_total_compra'] > 600]\n",
        "print(outliers)"
      ],
      "metadata": {
        "colab": {
          "base_uri": "https://localhost:8080/"
        },
        "id": "qxIF2z5gbp35",
        "outputId": "cdb7ae68-32ca-497b-86e2-ba29d1b5a361"
      },
      "execution_count": null,
      "outputs": [
        {
          "output_type": "stream",
          "name": "stdout",
          "text": [
            "    id_cliente     nome_cliente  id_produto      nome_produto  valor_produto  \\\n",
            "3            4        Ana Souza         104      Guarda-Roupa            400   \n",
            "4            5      Luiz Santos         105          Cama Box            600   \n",
            "5            6  Juliana Pereira         106     Televisão 50\"           1000   \n",
            "6            7      André Costa         107  Geladeira Duplex           1200   \n",
            "7            8      Silvia Lima         108     Fogão 4 Bocas            800   \n",
            "8            9    Rafael Vieira         109  Máquina de Lavar            900   \n",
            "9           10   Lucas Oliveira         110          Notebook           2000   \n",
            "10          11  Fernanda Santos         111        Smartphone           1500   \n",
            "\n",
            "    quantidade_venda  quantidade_entrega  custo_entrega  valor_total_compra  \n",
            "3                  2                   1             25                 850  \n",
            "4                  1                   1             15                 615  \n",
            "5                  1                   1             40                1040  \n",
            "6                  1                   1             50                1250  \n",
            "7                  1                   1             30                 830  \n",
            "8                  2                   2             40                1880  \n",
            "9                  1                   1             60                2060  \n",
            "10                 1                   1             30                1530  \n"
          ]
        }
      ]
    },
    {
      "cell_type": "markdown",
      "source": [
        "##Correlação entre Variáveis\n",
        "###Antes de proceder com a modelagem, é útil verificar a correlação entre as variáveis para entender quais são relevantes para incluir no modelo de predição.Vou calcular e visualizar a matriz de correlação. ​"
      ],
      "metadata": {
        "id": "wYJWxrRrX6Eo"
      }
    },
    {
      "cell_type": "code",
      "source": [
        "#Calcular a matriz de correlação\n",
        "numeric_cols = df.select_dtypes(include=['number'])\n",
        "correlation_matrix = numeric_cols.corr()\n",
        "#Visualisando as matriz de correlação com heatmap\n",
        "plt.figure(figsize=(12, 8))\n",
        "sns.heatmap(correlation_matrix, annot=True, fmt=\".2f\", cmap='coolwarm', cbar=True)\n",
        "plt.show()"
      ],
      "metadata": {
        "colab": {
          "base_uri": "https://localhost:8080/",
          "height": 645
        },
        "id": "2P9SgnD4Xva9",
        "outputId": "9efea58e-e7e8-47e6-b99b-1f2fd3813b44"
      },
      "execution_count": null,
      "outputs": [
        {
          "output_type": "display_data",
          "data": {
            "text/plain": [
              "<Figure size 1200x800 with 2 Axes>"
            ],
            "image/png": "[encoded data removed]"
          },
          "metadata": {}
        }
      ]
    },
    {
      "cell_type": "markdown",
      "source": [
        "##Análise da Matriz de Correlação\n",
        "A matriz de correlação revela várias correlações interessantes:\n",
        "\n",
        "valor_produto e valor_total_compra: Alta correlação positiva, o que é esperado já que o valor total da compra deveria aumentar com o valor do produto.\n",
        "quantidade_venda e quantidade_entrega: Correlação moderadamente alta, indicando que normalmente a quantidade entregue acompanha a quantidade vendida.\n",
        "Correlações menores entre os custos de entrega e outras variáveis, o que sugere que o custo de entrega não é fortemente influenciado pelos valores ou quantidades de produtos."
      ],
      "metadata": {
        "id": "gL2GfLk4grx6"
      }
    },
    {
      "cell_type": "markdown",
      "source": [
        "\n",
        "#Preparação dos Dados para Modelagem\n",
        "###Com base nesta análise inicial, as variáveis mais promissoras para incluir no modelo de predição do valor_total_compra seriam valor_produto, quantidade_venda, e custo_entrega. Agora, vou preparar os dados para modelagem, incluindo a separação em conjuntos de treino e teste.\n"
      ],
      "metadata": {
        "id": "BKoMhpW-HRf5"
      }
    },
    {
      "cell_type": "code",
      "source": [
        "#Selecionando variáveis preditoras e variável alvo\n",
        "x= df[['valor_produto', 'quantidade_venda', 'custo_entrega']]\n",
        "y=df['valor_total_compra']"
      ],
      "metadata": {
        "id": "_PhO_F_NbFg0"
      },
      "execution_count": null,
      "outputs": []
    },
    {
      "cell_type": "code",
      "source": [
        "#Dividindo os dados em conjuntos de treino teste\n",
        "x_train, x_test, y_train, y_test, = train_test_split(x, y, test_size=0.2, random_state=42)\n"
      ],
      "metadata": {
        "id": "xetZlni7gHTx"
      },
      "execution_count": null,
      "outputs": []
    },
    {
      "cell_type": "markdown",
      "source": [
        "#5.Construção e Avaliação do Modelo Modelagem\n",
        "##Para a predição, vou utilizar uma regressão linear, que é um modelo simples e eficaz para entender as relações lineares entre as variáveis."
      ],
      "metadata": {
        "id": "coo9_hREHbEJ"
      }
    },
    {
      "cell_type": "code",
      "source": [
        "#Criando e treinando o modelo de regressão linear\n",
        "model=LinearRegression()\n",
        "model.fit(x_train, y_train)"
      ],
      "metadata": {
        "colab": {
          "base_uri": "https://localhost:8080/",
          "height": 74
        },
        "id": "fxpyyOQemgwS",
        "outputId": "698d5912-330e-408b-910d-dd20e39507fb"
      },
      "execution_count": null,
      "outputs": [
        {
          "output_type": "execute_result",
          "data": {
            "text/plain": [
              "LinearRegression()"
            ],
            "text/html": [
              "<style>#sk-container-id-2 {color: black;background-color: white;}#sk-container-id-2 pre{padding: 0;}#sk-container-id-2 div.sk-toggleable {background-color: white;}#sk-container-id-2 label.sk-toggleable__label {cursor: pointer;display: block;width: 100%;margin-bottom: 0;padding: 0.3em;box-sizing: border-box;text-align: center;}#sk-container-id-2 label.sk-toggleable__label-arrow:before {content: \"▸\";float: left;margin-right: 0.25em;color: #696969;}#sk-container-id-2 label.sk-toggleable__label-arrow:hover:before {color: black;}#sk-container-id-2 div.sk-estimator:hover label.sk-toggleable__label-arrow:before {color: black;}#sk-container-id-2 div.sk-toggleable__content {max-height: 0;max-width: 0;overflow: hidden;text-align: left;background-color: #f0f8ff;}#sk-container-id-2 div.sk-toggleable__content pre {margin: 0.2em;color: black;border-radius: 0.25em;background-color: #f0f8ff;}#sk-container-id-2 input.sk-toggleable__control:checked~div.sk-toggleable__content {max-height: 200px;max-width: 100%;overflow: auto;}#sk-container-id-2 input.sk-toggleable__control:checked~label.sk-toggleable__label-arrow:before {content: \"▾\";}#sk-container-id-2 div.sk-estimator input.sk-toggleable__control:checked~label.sk-toggleable__label {background-color: #d4ebff;}#sk-container-id-2 div.sk-label input.sk-toggleable__control:checked~label.sk-toggleable__label {background-color: #d4ebff;}#sk-container-id-2 input.sk-hidden--visually {border: 0;clip: rect(1px 1px 1px 1px);clip: rect(1px, 1px, 1px, 1px);height: 1px;margin: -1px;overflow: hidden;padding: 0;position: absolute;width: 1px;}#sk-container-id-2 div.sk-estimator {font-family: monospace;background-color: #f0f8ff;border: 1px dotted black;border-radius: 0.25em;box-sizing: border-box;margin-bottom: 0.5em;}#sk-container-id-2 div.sk-estimator:hover {background-color: #d4ebff;}#sk-container-id-2 div.sk-parallel-item::after {content: \"\";width: 100%;border-bottom: 1px solid gray;flex-grow: 1;}#sk-container-id-2 div.sk-label:hover label.sk-toggleable__label {background-color: #d4ebff;}#sk-container-id-2 div.sk-serial::before {content: \"\";position: absolute;border-left: 1px solid gray;box-sizing: border-box;top: 0;bottom: 0;left: 50%;z-index: 0;}#sk-container-id-2 div.sk-serial {display: flex;flex-direction: column;align-items: center;background-color: white;padding-right: 0.2em;padding-left: 0.2em;position: relative;}#sk-container-id-2 div.sk-item {position: relative;z-index: 1;}#sk-container-id-2 div.sk-parallel {display: flex;align-items: stretch;justify-content: center;background-color: white;position: relative;}#sk-container-id-2 div.sk-item::before, #sk-container-id-2 div.sk-parallel-item::before {content: \"\";position: absolute;border-left: 1px solid gray;box-sizing: border-box;top: 0;bottom: 0;left: 50%;z-index: -1;}#sk-container-id-2 div.sk-parallel-item {display: flex;flex-direction: column;z-index: 1;position: relative;background-color: white;}#sk-container-id-2 div.sk-parallel-item:first-child::after {align-self: flex-end;width: 50%;}#sk-container-id-2 div.sk-parallel-item:last-child::after {align-self: flex-start;width: 50%;}#sk-container-id-2 div.sk-parallel-item:only-child::after {width: 0;}#sk-container-id-2 div.sk-dashed-wrapped {border: 1px dashed gray;margin: 0 0.4em 0.5em 0.4em;box-sizing: border-box;padding-bottom: 0.4em;background-color: white;}#sk-container-id-2 div.sk-label label {font-family: monospace;font-weight: bold;display: inline-block;line-height: 1.2em;}#sk-container-id-2 div.sk-label-container {text-align: center;}#sk-container-id-2 div.sk-container {/* jupyter's `normalize.less` sets `[hidden] { display: none; }` but bootstrap.min.css set `[hidden] { display: none !important; }` so we also need the `!important` here to be able to override the default hidden behavior on the sphinx rendered scikit-learn.org. See: https://github.com/scikit-learn/scikit-learn/issues/21755 */display: inline-block !important;position: relative;}#sk-container-id-2 div.sk-text-repr-fallback {display: none;}</style><div id=\"sk-container-id-2\" class=\"sk-top-container\"><div class=\"sk-text-repr-fallback\"><pre>LinearRegression()</pre><b>In a Jupyter environment, please rerun this cell to show the HTML representation or trust the notebook. <br />On GitHub, the HTML representation is unable to render, please try loading this page with nbviewer.org.</b></div><div class=\"sk-container\" hidden><div class=\"sk-item\"><div class=\"sk-estimator sk-toggleable\"><input class=\"sk-toggleable__control sk-hidden--visually\" id=\"sk-estimator-id-2\" type=\"checkbox\" checked><label for=\"sk-estimator-id-2\" class=\"sk-toggleable__label sk-toggleable__label-arrow\">LinearRegression</label><div class=\"sk-toggleable__content\"><pre>LinearRegression()</pre></div></div></div></div></div>"
            ]
          },
          "metadata": {},
          "execution_count": 31
        }
      ]
    },
    {
      "cell_type": "code",
      "source": [
        "#Fazendo previsão como o conjunto de teste\n",
        "y_pred=model.predict(x_test)"
      ],
      "metadata": {
        "id": "kmkKijRfmtN-"
      },
      "execution_count": null,
      "outputs": []
    },
    {
      "cell_type": "markdown",
      "source": [
        "#6.Visualizações do resultado e Conclusões do modelo.\n",
        "##O modelo de regressão linear obteve os seguintes resultados nas métricas de desempenho.\n",
        "\n",
        "###Erro Quadrático Médio (MSE) 3436.42. Este valor indica o erro médio quadrático das previsões do modelo em relação aos valores reais.Coeficiente de Determinação (R²) 0.97. Este valor mostra que o modelo é capaz de explicar 97% da variância nos dados de teste, o que é um resultado excelente para um modelo preditivo."
      ],
      "metadata": {
        "id": "fscMoK7-Hjrf"
      }
    },
    {
      "cell_type": "code",
      "source": [
        "#Calculando metricas de desempenho do modelo.\n",
        "mse = mean_squared_error(y_test, y_pred)\n",
        "r2 = r2_score(y_test, y_pred)\n",
        "\n",
        "print(\"MSE:\", mse)\n",
        "print(\"R^2:\", r2)"
      ],
      "metadata": {
        "colab": {
          "base_uri": "https://localhost:8080/"
        },
        "id": "QFdERUFXpHcA",
        "outputId": "632153b2-5134-4c12-fd61-b12d7a688154"
      },
      "execution_count": null,
      "outputs": [
        {
          "output_type": "stream",
          "name": "stdout",
          "text": [
            "MSE: 3436.4154071700877\n",
            "R^2: 0.9700336027621032\n"
          ]
        }
      ]
    },
    {
      "cell_type": "markdown",
      "source": [
        "##Visualização Interativa\n",
        "###Para explorar melhor os resultados, vou criar um gráfico interativo que permite visualizar as previsões do modelo em comparação com os valores reais. Isso ajudará a entender como o modelo está performando em diferentes segmentos do conjunto de teste."
      ],
      "metadata": {
        "id": "ru3d9PebjFv0"
      }
    },
    {
      "cell_type": "code",
      "source": [
        "plt.figure(figsize=(14, 7))\n",
        "plt.scatter(range(len(y_test)), y_test, color='blue', label='Valores Reais', alpha=0.5)\n",
        "plt.scatter(range(len(y_pred)), y_pred, color='red', label='Previsões', alpha=0.5)\n",
        "plt.title('Comparação entre Valores Reais e Previsões')\n",
        "plt.xlabel('Índice')\n",
        "plt.ylabel('Valor Total da Compra')\n",
        "plt.legend()\n",
        "plt.show()"
      ],
      "metadata": {
        "colab": {
          "base_uri": "https://localhost:8080/",
          "height": 458
        },
        "id": "fFsYn92Dq0gH",
        "outputId": "230c672e-8edd-4935-9e36-d08ded8f48f6"
      },
      "execution_count": null,
      "outputs": [
        {
          "output_type": "display_data",
          "data": {
            "text/plain": [
              "<Figure size 1400x700 with 1 Axes>"
            ],
            "image/png": "[encoded data removed]"
          },
          "metadata": {}
        }
      ]
    },
    {
      "cell_type": "markdown",
      "source": [
        "#Conclusão\n",
        "Este relatório demonstra o potencial da análise de dados e modelagem preditiva para transformar insights de dados em ações estratégicas concretas. Com a continuação do refinamento e expansão deste trabalho, a empresa pode esperar melhorias significativas na eficiência operacional e no sucesso de vendas."
      ],
      "metadata": {
        "id": "yFsu08odkxyS"
      }
    }
  ]
}